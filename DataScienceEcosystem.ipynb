{
 "cells": [
  {
   "cell_type": "markdown",
   "id": "b63f84c9",
   "metadata": {},
   "source": [
    "# Data Science Tools and Ecosystem"
   ]
  },
  {
   "cell_type": "markdown",
   "id": "30b943c4",
   "metadata": {},
   "source": [
    "## Author\n",
    "Chris"
   ]
  },
  {
   "cell_type": "markdown",
   "id": "a913441d",
   "metadata": {},
   "source": [
    "This notebook provides a summary of Data Science Tools and EcoSystem."
   ]
  },
  {
   "cell_type": "markdown",
   "id": "3bff2a2b",
   "metadata": {},
   "source": [
    "__ Objectives: __\n",
    "* List Popular Languages for Data Science\n",
    "* Learn how to naivagate and notetate JupyterNotebook\n",
    "* Engage in basic Python functionality\n",
    "* Libraries Popular with Data Scientists\n",
    "\n"
   ]
  },
  {
   "cell_type": "markdown",
   "id": "1a313ade",
   "metadata": {},
   "source": [
    "There are several languages that are quite popular amongst Data Scientists such as:"
   ]
  },
  {
   "cell_type": "markdown",
   "id": "2280d06e",
   "metadata": {},
   "source": [
    "1. Python\n",
    "2. R\n",
    "3. SQL"
   ]
  },
  {
   "cell_type": "markdown",
   "id": "a72218ec",
   "metadata": {},
   "source": [
    "The most commonly used libraries utilized by Data Scientists include:"
   ]
  },
  {
   "cell_type": "markdown",
   "id": "1aa6402f",
   "metadata": {},
   "source": [
    "---"
   ]
  },
  {
   "cell_type": "markdown",
   "id": "0e2caa42",
   "metadata": {},
   "source": [
    "1. ggplot2 \n",
    "2. PyTorch\n",
    "3. dplyr"
   ]
  },
  {
   "cell_type": "markdown",
   "id": "50461419",
   "metadata": {},
   "source": [
    "| Data Science Tools |\n",
    "-------------------------------\n",
    "| R STUDIO |\n",
    "| JUPYTERLAB |\n",
    "| PYCHARM COMMUNITY EDITION |\n"
   ]
  },
  {
   "cell_type": "markdown",
   "id": "9426b3c2",
   "metadata": {},
   "source": [
    "### Please see below for several examples of evaluating arithmetic expressions in Python"
   ]
  },
  {
   "cell_type": "markdown",
   "id": "87439533",
   "metadata": {},
   "source": [
    "This is a rather rudimentary example of an arithmetic expression, muliplying then adding integers."
   ]
  },
  {
   "cell_type": "code",
   "execution_count": 3,
   "id": "3c6b5221",
   "metadata": {},
   "outputs": [
    {
     "data": {
      "text/plain": [
       "17"
      ]
     },
     "execution_count": 3,
     "metadata": {},
     "output_type": "execute_result"
    }
   ],
   "source": [
    "(3*4)+5"
   ]
  },
  {
   "cell_type": "markdown",
   "id": "2900ea44",
   "metadata": {},
   "source": [
    "This will convert 200 minutes to hours by dividing by 60"
   ]
  },
  {
   "cell_type": "code",
   "execution_count": 6,
   "id": "3f3cc385",
   "metadata": {
    "scrolled": true
   },
   "outputs": [
    {
     "data": {
      "text/plain": [
       "3.3333333333333335"
      ]
     },
     "execution_count": 6,
     "metadata": {},
     "output_type": "execute_result"
    }
   ],
   "source": [
    "min = 200\n",
    "hr = min / 60\n",
    "hr"
   ]
  },
  {
   "cell_type": "code",
   "execution_count": null,
   "id": "aed74a55",
   "metadata": {},
   "outputs": [],
   "source": []
  },
  {
   "cell_type": "code",
   "execution_count": null,
   "id": "a3768aa7",
   "metadata": {},
   "outputs": [],
   "source": []
  }
 ],
 "metadata": {
  "kernelspec": {
   "display_name": "Python 3 (ipykernel)",
   "language": "python",
   "name": "python3"
  },
  "language_info": {
   "codemirror_mode": {
    "name": "ipython",
    "version": 3
   },
   "file_extension": ".py",
   "mimetype": "text/x-python",
   "name": "python",
   "nbconvert_exporter": "python",
   "pygments_lexer": "ipython3",
   "version": "3.11.4"
  }
 },
 "nbformat": 4,
 "nbformat_minor": 5
}
